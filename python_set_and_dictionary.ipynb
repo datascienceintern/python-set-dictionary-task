{
  "nbformat": 4,
  "nbformat_minor": 0,
  "metadata": {
    "colab": {
      "provenance": []
    },
    "kernelspec": {
      "name": "python3",
      "display_name": "Python 3"
    },
    "language_info": {
      "name": "python"
    }
  },
  "cells": [
    {
      "cell_type": "code",
      "source": [
        "class DataAnalyzer:\n",
        "    def __init__(self):\n",
        "        self.data_set = set()\n",
        "        self.data_dict = {}\n",
        "\n",
        "    def add_to_set(self, elements):\n",
        "        self.data_set.update(elements)\n",
        "\n",
        "    def remove_from_set(self, element):\n",
        "        if element in self.data_set:\n",
        "            self.data_set.remove(element)\n",
        "\n",
        "    def get_set(self):\n",
        "        return self.data_set\n",
        "\n",
        "    def create_dictionary(self, keys, values):\n",
        "        self.data_dict = dict(zip(keys, values))\n",
        "\n",
        "    def update_dictionary(self, key, value):\n",
        "        self.data_dict[key] = value\n",
        "\n",
        "    def get_dictionary(self):\n",
        "        return self.data_dict\n",
        "\n",
        "    def search_dictionary(self, key):\n",
        "        return key in self.data_dict\n",
        "\n",
        "    def remove_from_dictionary(self, key):\n",
        "        if key in self.data_dict:\n",
        "            del self.data_dict[key]\n",
        "\n",
        "analyzer = DataAnalyzer()\n",
        "analyzer.add_to_set([1, 2, 3, 4])\n",
        "print(\"Current set:\", analyzer.get_set())\n",
        "\n",
        "analyzer.remove_from_set(3)\n",
        "print(\"Set after removing element 3:\", analyzer.get_set())\n",
        "\n",
        "analyzer.create_dictionary(['a', 'b', 'c'], [1, 2, 3])\n",
        "print(\"Current dictionary:\", analyzer.get_dictionary())\n",
        "\n",
        "analyzer.update_dictionary('d', 4)\n",
        "print(\"Dictionary after updating:\", analyzer.get_dictionary())\n",
        "\n",
        "print(\"Is 'b' in the dictionary?\", analyzer.search_dictionary('b'))\n",
        "\n",
        "analyzer.remove_from_dictionary('c')\n",
        "print(\"Dictionary after removing 'c':\", analyzer.get_dictionary())\n",
        "\n"
      ],
      "metadata": {
        "colab": {
          "base_uri": "https://localhost:8080/"
        },
        "id": "1tXpiO0hrS-P",
        "outputId": "9a082de4-8b33-4872-f758-6dd2a38ac425"
      },
      "execution_count": 2,
      "outputs": [
        {
          "output_type": "stream",
          "name": "stdout",
          "text": [
            "Current set: {1, 2, 3, 4}\n",
            "Set after removing element 3: {1, 2, 4}\n",
            "Current dictionary: {'a': 1, 'b': 2, 'c': 3}\n",
            "Dictionary after updating: {'a': 1, 'b': 2, 'c': 3, 'd': 4}\n",
            "Is 'b' in the dictionary? True\n",
            "Dictionary after removing 'c': {'a': 1, 'b': 2, 'd': 4}\n"
          ]
        }
      ]
    }
  ]
}